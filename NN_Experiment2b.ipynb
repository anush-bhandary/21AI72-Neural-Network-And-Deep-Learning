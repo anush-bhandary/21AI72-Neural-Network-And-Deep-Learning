{
 "cells": [
  {
   "cell_type": "code",
   "execution_count": null,
   "metadata": {},
   "outputs": [
    {
     "name": "stdout",
     "output_type": "stream",
     "text": [
      "\n",
      "AND Gate Results:\n",
      "Expected: [0 0 0 1]\n",
      "Predicted: [0, 0, 0, 1]\n",
      "AND gate successfully learned by the perceptron.\n",
      "\n",
      "OR Gate Results:\n",
      "Expected: [0 1 1 1]\n",
      "Predicted: [0, 1, 1, 1]\n",
      "OR gate successfully learned by the perceptron.\n",
      "\n",
      "XOR Gate Results:\n",
      "Expected: [0 1 1 0]\n",
      "Predicted: [1, 1, 0, 0]\n",
      "XOR gate could NOT be learned by the perceptron.\n"
     ]
    }
   ],
   "source": [
    "import numpy as np\n",
    "\n",
    "def step_function(x):\n",
    "    return 1 if x >= 0 else 0\n",
    "\n",
    "class Perceptron:\n",
    "    def __init__(self, input_size, learning_rate=0.1):\n",
    "        self.weights = np.zeros(input_size + 1) \n",
    "        self.learning_rate = learning_rate\n",
    "\n",
    "    def predict(self, inputs):\n",
    "        \n",
    "        inputs = np.append(inputs, 1)\n",
    "        weighted_sum = np.dot(inputs, self.weights)\n",
    "        return step_function(weighted_sum)\n",
    "\n",
    "    def train(self, training_data, labels, epochs=10):\n",
    "        for epoch in range(epochs):\n",
    "            for inputs, label in zip(training_data, labels):\n",
    "                prediction = self.predict(inputs)\n",
    "                error = label - prediction\n",
    "                \n",
    "                inputs = np.append(inputs, 1)  \n",
    "                self.weights += self.learning_rate * error * inputs\n",
    "\n",
    "data = np.array([\n",
    "    [0, 0],\n",
    "    [0, 1],\n",
    "    [1, 0],\n",
    "    [1, 1]\n",
    "])\n",
    "\n",
    "labels_and = np.array([0, 0, 0, 1])  \n",
    "labels_or = np.array([0, 1, 1, 1]) \n",
    "labels_xor = np.array([0, 1, 1, 0])  \n",
    "\n",
    "def evaluate_gate(data, labels, gate_name):\n",
    "    perceptron = Perceptron(input_size=2)\n",
    "    perceptron.train(data, labels, epochs=10)\n",
    "    predictions = [perceptron.predict(x) for x in data]\n",
    "\n",
    "    print(f\"\\n{gate_name} Gate Results:\")\n",
    "    print(f\"Expected: {labels}\")\n",
    "    print(f\"Predicted: {predictions}\")\n",
    "    if np.array_equal(predictions, labels):\n",
    "        print(f\"{gate_name} gate successfully learned by the perceptron.\")\n",
    "    else:\n",
    "        print(f\"{gate_name} gate could NOT be learned by the perceptron.\")\n",
    "\n",
    "evaluate_gate(data, labels_and, \"AND\")\n",
    "evaluate_gate(data, labels_or, \"OR\")\n",
    "evaluate_gate(data, labels_xor, \"XOR\")\n"
   ]
  }
 ],
 "metadata": {
  "kernelspec": {
   "display_name": "Python 3",
   "language": "python",
   "name": "python3"
  },
  "language_info": {
   "codemirror_mode": {
    "name": "ipython",
    "version": 3
   },
   "file_extension": ".py",
   "mimetype": "text/x-python",
   "name": "python",
   "nbconvert_exporter": "python",
   "pygments_lexer": "ipython3",
   "version": "3.12.4"
  }
 },
 "nbformat": 4,
 "nbformat_minor": 2
}
